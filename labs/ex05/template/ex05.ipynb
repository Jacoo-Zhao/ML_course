{
 "cells": [
  {
   "cell_type": "code",
   "execution_count": 179,
   "metadata": {},
   "outputs": [
    {
     "name": "stdout",
     "output_type": "stream",
     "text": [
      "The autoreload extension is already loaded. To reload it, use:\n",
      "  %reload_ext autoreload\n"
     ]
    }
   ],
   "source": [
    "# Useful starting lines\n",
    "%matplotlib inline\n",
    "import numpy as np\n",
    "import matplotlib.pyplot as plt\n",
    "%load_ext autoreload\n",
    "%autoreload 2\n",
    "\n",
    "# Load test module for sanity check\n",
    "from test_utils import test"
   ]
  },
  {
   "cell_type": "markdown",
   "metadata": {},
   "source": [
    "# Logistic Regression\n",
    "## Classification Using Linear Regression\n",
    "Load your data."
   ]
  },
  {
   "cell_type": "code",
   "execution_count": 180,
   "metadata": {},
   "outputs": [],
   "source": [
    "from helpers import sample_data, load_data, standardize\n",
    "\n",
    "# load data.\n",
    "height, weight, gender = load_data()\n",
    "\n",
    "# build sampled x and y.\n",
    "seed = 1\n",
    "y = np.expand_dims(gender, axis=1)\n",
    "X = np.c_[height.reshape(-1), weight.reshape(-1)]\n",
    "y, X = sample_data(y, X, seed, size_samples=200)\n",
    "x, mean_x, std_x = standardize(X)"
   ]
  },
  {
   "cell_type": "markdown",
   "metadata": {},
   "source": [
    "Use `least_squares` to compute w, and visualize the results."
   ]
  },
  {
   "cell_type": "code",
   "execution_count": 181,
   "metadata": {
    "scrolled": true
   },
   "outputs": [
    {
     "data": {
      "image/png": "[encoded data removed]",
      "text/plain": [
       "<Figure size 432x288 with 2 Axes>"
      ]
     },
     "metadata": {
      "needs_background": "light"
     },
     "output_type": "display_data"
    }
   ],
   "source": [
    "from least_squares import least_squares\n",
    "from plots import visualization\n",
    "\n",
    "def least_square_classification_demo(y, x):\n",
    "    \"\"\"Least square demo \n",
    "\n",
    "    Args:\n",
    "        y:  shape=(N, 1)\n",
    "        x:  shape=(N, 2)\n",
    "    \"\"\"\n",
    "    # classify the data by linear regression\n",
    "    tx = np.c_[np.ones((y.shape[0], 1)), x]\n",
    "    # ***************************************************\n",
    "    # INSERT YOUR CODE HERE\n",
    "    # classify the data by linear regression: TODO\n",
    "    # ***************************************************\n",
    "    # w = least squares with respect to tx and y\n",
    "    w, mse = least_squares(y, tx)\n",
    "    # visualize your classification.\n",
    "    visualization(y, x, mean_x, std_x, w, \"classification_by_least_square\")\n",
    "    \n",
    "least_square_classification_demo(y, x)"
   ]
  },
  {
   "cell_type": "markdown",
   "metadata": {},
   "source": [
    "#### The `least_square_classification_demo` is expected to show\n",
    "\n",
    "![1](./classification_by_least_square.png)"
   ]
  },
  {
   "cell_type": "markdown",
   "metadata": {},
   "source": [
    "## Logistic Regression"
   ]
  },
  {
   "cell_type": "markdown",
   "metadata": {},
   "source": [
    "Compute your cost by negative log likelihood."
   ]
  },
  {
   "cell_type": "code",
   "execution_count": 184,
   "metadata": {},
   "outputs": [
    {
     "name": "stdout",
     "output_type": "stream",
     "text": [
      "✅ Your `sigmoid` passed 2 tests.\n"
     ]
    }
   ],
   "source": [
    "def sigmoid(t):\n",
    "    \"\"\"apply sigmoid function on t.\n",
    "\n",
    "    Args:\n",
    "        t: scalar or numpy array\n",
    "\n",
    "    Returns:\n",
    "        scalar or numpy array\n",
    "\n",
    "    >>> sigmoid(np.array([0.1]))\n",
    "    array([0.52497919])\n",
    "    >>> sigmoid(np.array([0.1, 0.1]))\n",
    "    array([0.52497919, 0.52497919])\n",
    "    \"\"\"\n",
    "\n",
    "    sigmoid = 1/(1+(np.exp(-t)))\n",
    "    \n",
    "    return sigmoid\n",
    "\n",
    "test(sigmoid)"
   ]
  },
  {
   "cell_type": "code",
   "execution_count": 185,
   "metadata": {},
   "outputs": [
    {
     "name": "stdout",
     "output_type": "stream",
     "text": [
      "✅ Your `calculate_loss` passed 4 tests.\n"
     ]
    }
   ],
   "source": [
    "def calculate_loss(y, tx, w):\n",
    "    \"\"\"compute the cost by negative log likelihood.\n",
    "\n",
    "    Args:\n",
    "        y:  shape=(N, 1)\n",
    "        tx: shape=(N, D)\n",
    "        w:  shape=(D, 1) \n",
    "\n",
    "    Returns:\n",
    "        a non-negative loss\n",
    "\n",
    "    >>> y = np.c_[[0., 1.]]\n",
    "    >>> tx = np.arange(4).reshape(2, 2)\n",
    "    >>> w = np.c_[[2., 3.]]\n",
    "    >>> round(calculate_loss(y, tx, w), 8)\n",
    "    1.52429481\n",
    "    \"\"\"\n",
    "    assert y.shape[0] == tx.shape[0]\n",
    "    assert tx.shape[1] == w.shape[0]\n",
    "     \n",
    "    N,D = tx.shape\n",
    "    loss = 0.0 \n",
    "    # for i in range(N):\n",
    "        # loss+=(1/N)*(np.log(1+np.exp(tx[i,:].T.dot(w.reshape(-1))))-y[i][0]*(tx[i,:].T.dot(w.reshape(-1))))\n",
    "\n",
    "    loss=np.sum((1/N)*(np.log(1+np.exp(tx.dot(w.reshape(-1))))-y.reshape(-1)*(tx.dot(w.reshape(-1)))))\n",
    "   \n",
    "    return loss\n",
    "\n",
    "test(calculate_loss)"
   ]
  },
  {
   "cell_type": "code",
   "execution_count": 186,
   "metadata": {},
   "outputs": [
    {
     "name": "stdout",
     "output_type": "stream",
     "text": [
      "✅ Your `calculate_gradient` passed 5 tests.\n"
     ]
    }
   ],
   "source": [
    "def calculate_gradient(y, tx, w):\n",
    "    \"\"\"compute the gradient of loss.\n",
    "    \n",
    "    Args:\n",
    "        y:  shape=(N, 1)\n",
    "        tx: shape=(N, D)\n",
    "        w:  shape=(D, 1) \n",
    "\n",
    "    Returns:\n",
    "        a vector of shape (D, 1)\n",
    "\n",
    "    >>> np.set_printoptions(8)\n",
    "    >>> y = np.c_[[0., 1.]]\n",
    "    >>> tx = np.arange(6).reshape(2, 3)\n",
    "    >>> w = np.array([[0.1], [0.2], [0.3]])\n",
    "    >>> calculate_gradient(y, tx, w)\n",
    "    array([[-0.10370763],\n",
    "           [ 0.2067104 ],\n",
    "           [ 0.51712843]])\n",
    "    \"\"\"\n",
    "    N, D = tx.shape \n",
    "    y = y.reshape(-1); w = w.reshape(-1)\n",
    "    gradient = (1/N)*tx.T.dot(sigmoid(tx.dot(w))-y).reshape(D,1)\n",
    "    \n",
    "    return gradient\n",
    "\n",
    "test(calculate_gradient)"
   ]
  },
  {
   "cell_type": "markdown",
   "metadata": {},
   "source": [
    "### Using Gradient Descent\n",
    "Implement your function to calculate the gradient for logistic regression."
   ]
  },
  {
   "cell_type": "code",
   "execution_count": 187,
   "metadata": {},
   "outputs": [
    {
     "name": "stdout",
     "output_type": "stream",
     "text": [
      "✅ Your `learning_by_gradient_descent` passed 7 tests.\n"
     ]
    }
   ],
   "source": [
    "def learning_by_gradient_descent(y, tx, w, gamma):\n",
    "    \"\"\"\n",
    "    Do one step of gradient descent using logistic regression. Return the loss and the updated w.\n",
    "\n",
    "    Args:\n",
    "        y:  shape=(N, 1)\n",
    "        tx: shape=(N, D)\n",
    "        w:  shape=(D, 1) \n",
    "        gamma: float\n",
    "\n",
    "    Returns:\n",
    "        loss: scalar number\n",
    "        w: shape=(D, 1) \n",
    "\n",
    "    >>> y = np.c_[[0., 1.]]\n",
    "    >>> tx = np.arange(6).reshape(2, 3)\n",
    "    >>> w = np.array([[0.1], [0.2], [0.3]])\n",
    "    >>> gamma = 0.1\n",
    "    >>> loss, w = learning_by_gradient_descent(y, tx, w, gamma)\n",
    "    >>> round(loss, 8)\n",
    "    0.62137268\n",
    "    >>> w\n",
    "    array([[0.11037076],\n",
    "           [0.17932896],\n",
    "           [0.24828716]])\n",
    "    \"\"\"\n",
    "    # compute gradient and loss\n",
    "    gradient = calculate_gradient(y, tx, w)\n",
    "    loss = calculate_loss(y, tx, w)\n",
    "    \n",
    "    # update w by gradient\n",
    "    w = w - gamma*gradient\n",
    "\n",
    "    return loss, w\n",
    "    \n",
    "test(learning_by_gradient_descent)"
   ]
  },
  {
   "cell_type": "markdown",
   "metadata": {},
   "source": [
    "Demo!"
   ]
  },
  {
   "cell_type": "code",
   "execution_count": 188,
   "metadata": {},
   "outputs": [
    {
     "name": "stdout",
     "output_type": "stream",
     "text": [
      "Current iteration=0, loss=0.6931471805599456\n",
      "Current iteration=100, loss=0.25727807758229915\n",
      "Current iteration=200, loss=0.2354612766230435\n",
      "Current iteration=300, loss=0.22402749546644213\n",
      "Current iteration=400, loss=0.217439348921451\n",
      "Current iteration=500, loss=0.2133786620603055\n",
      "Current iteration=600, loss=0.2107498111157124\n",
      "Current iteration=700, loss=0.2089845098624057\n",
      "Current iteration=800, loss=0.2077655124329582\n",
      "Current iteration=900, loss=0.20690519298954657\n",
      "Current iteration=1000, loss=0.20628738195411775\n",
      "Current iteration=1100, loss=0.20583744941158433\n",
      "Current iteration=1200, loss=0.20550598727687253\n",
      "Current iteration=1300, loss=0.2052594634804288\n",
      "Current iteration=1400, loss=0.20507464518877042\n",
      "Current iteration=1500, loss=0.2049351533097044\n",
      "Current iteration=1600, loss=0.20482926953052658\n",
      "Current iteration=1700, loss=0.20474850436405462\n",
      "Current iteration=1800, loss=0.2046866411426354\n",
      "Current iteration=1900, loss=0.20463908531602837\n",
      "Current iteration=2000, loss=0.20460241400596174\n",
      "Current iteration=2100, loss=0.20457405952827126\n",
      "Current iteration=2200, loss=0.2045520841171981\n",
      "Current iteration=2300, loss=0.2045350177115527\n",
      "Current iteration=2400, loss=0.20452173995435655\n",
      "Current iteration=2500, loss=0.20451139357783976\n",
      "Current iteration=2600, loss=0.2045033203161432\n",
      "Current iteration=2700, loss=0.20449701314932472\n",
      "Current iteration=2800, loss=0.20449208049247558\n",
      "Current iteration=2900, loss=0.2044882191917493\n",
      "Current iteration=3000, loss=0.20448519406015747\n",
      "Current iteration=3100, loss=0.20448282230082498\n",
      "Current iteration=3200, loss=0.2044809616038925\n",
      "Current iteration=3300, loss=0.2044795010189353\n",
      "Current iteration=3400, loss=0.20447835393401814\n",
      "loss=0.2044782735718383\n"
     ]
    },
    {
     "data": {
      "image/png": "[encoded data removed]",
      "text/plain": [
       "<Figure size 432x288 with 2 Axes>"
      ]
     },
     "metadata": {
      "needs_background": "light"
     },
     "output_type": "display_data"
    }
   ],
   "source": [
    "from helpers import de_standardize\n",
    "\n",
    "def logistic_regression_gradient_descent_demo(y, x):\n",
    "    # init parameters\n",
    "    max_iter = 10000\n",
    "    threshold = 1e-8\n",
    "    gamma = 0.5\n",
    "    losses = []\n",
    "\n",
    "    # build tx\n",
    "    tx = np.c_[np.ones((y.shape[0], 1)), x]\n",
    "    w = np.zeros((tx.shape[1], 1))\n",
    "\n",
    "    # start the logistic regression\n",
    "    for iter in range(max_iter):\n",
    "        # get loss and update w.\n",
    "        loss, w = learning_by_gradient_descent(y, tx, w, gamma)\n",
    "        # log info\n",
    "        if iter % 100 == 0:\n",
    "            print(\"Current iteration={i}, loss={l}\".format(i=iter, l=loss))\n",
    "        # converge criterion\n",
    "        losses.append(loss)\n",
    "        if len(losses) > 1 and np.abs(losses[-1] - losses[-2]) < threshold:\n",
    "            break\n",
    "    # visualization\n",
    "    visualization(y, x, mean_x, std_x, w, \"classification_by_logistic_regression_gradient_descent\", True)\n",
    "    print(\"loss={l}\".format(l=calculate_loss(y, tx, w)))\n",
    "\n",
    "logistic_regression_gradient_descent_demo(y, x)"
   ]
  },
  {
   "cell_type": "markdown",
   "metadata": {},
   "source": [
    "#### The `logistic_regression_gradient_descent_demo` is expected to show\n",
    "\n",
    "![1](../template/classification_by_logistic_regression_gradient_descent.png)"
   ]
  },
  {
   "cell_type": "markdown",
   "metadata": {},
   "source": [
    "Calculate your hessian below"
   ]
  },
  {
   "cell_type": "code",
   "execution_count": 193,
   "metadata": {},
   "outputs": [
    {
     "name": "stdout",
     "output_type": "stream",
     "text": [
      "✅ Your `calculate_hessian` passed 4 tests.\n"
     ]
    }
   ],
   "source": [
    "def calculate_hessian(y, tx, w):\n",
    "    \"\"\"return the Hessian of the loss function.\n",
    "\n",
    "    Args:\n",
    "        y:  shape=(N, 1)\n",
    "        tx: shape=(N, D)\n",
    "        w:  shape=(D, 1) \n",
    "\n",
    "    Returns:\n",
    "        a hessian matrix of shape=(D, D) \n",
    "\n",
    "    >>> y = np.c_[[0., 1.]]\n",
    "    >>> tx = np.arange(6).reshape(2, 3)\n",
    "    >>> w = np.array([[0.1], [0.2], [0.3]])\n",
    "    >>> calculate_hessian(y, tx, w)\n",
    "    array([[0.28961235, 0.3861498 , 0.48268724],\n",
    "           [0.3861498 , 0.62182124, 0.85749269],\n",
    "           [0.48268724, 0.85749269, 1.23229813]])\n",
    "    \"\"\"\n",
    "    N, D = tx.shape\n",
    "\n",
    "    # sigmoid(tx.dot(w)).shape\n",
    "    s = np.diag(np.diag(sigmoid(tx.dot(w)).dot((1-sigmoid(tx.dot(w))).T)))\n",
    "\n",
    "    # s = np.zeros((N,N))\n",
    "    # for i in range(N):\n",
    "        # s[i, i] = sigmoid(tx[i,:].dot(w)).dot(1-(sigmoid(tx[i,:].T.dot(w))))\n",
    "\n",
    "    Hessian = (tx.T.dot(s).dot(tx))/N\n",
    "\n",
    "    return Hessian\n",
    "\n",
    "test(calculate_hessian)"
   ]
  },
  {
   "cell_type": "markdown",
   "metadata": {},
   "source": [
    "Write a function below to return loss, gradient, and hessian."
   ]
  },
  {
   "cell_type": "code",
   "execution_count": 194,
   "metadata": {},
   "outputs": [
    {
     "name": "stdout",
     "output_type": "stream",
     "text": [
      "✅ Your `logistic_regression` passed 6 tests.\n"
     ]
    }
   ],
   "source": [
    "def logistic_regression(y, tx, w):\n",
    "    \"\"\"return the loss, gradient of the loss, and hessian of the loss.\n",
    "\n",
    "    Args:\n",
    "        y:  shape=(N, 1)\n",
    "        tx: shape=(N, D)\n",
    "        w:  shape=(D, 1) \n",
    "\n",
    "    Returns:\n",
    "        loss: scalar number\n",
    "        gradient: shape=(D, 1) \n",
    "        hessian: shape=(D, D)\n",
    "\n",
    "    >>> y = np.c_[[0., 1.]]\n",
    "    >>> tx = np.arange(6).reshape(2, 3)\n",
    "    >>> w = np.array([[0.1], [0.2], [0.3]])\n",
    "    >>> loss, gradient, hessian = logistic_regression(y, tx, w)\n",
    "    >>> round(loss, 8)\n",
    "    0.62137268\n",
    "    >>> gradient, hessian\n",
    "    (array([[-0.10370763],\n",
    "           [ 0.2067104 ],\n",
    "           [ 0.51712843]]), array([[0.28961235, 0.3861498 , 0.48268724],\n",
    "           [0.3861498 , 0.62182124, 0.85749269],\n",
    "           [0.48268724, 0.85749269, 1.23229813]]))\n",
    "    \"\"\"\n",
    "    loss =  calculate_loss(y, tx, w)\n",
    "    gradient = calculate_gradient(y, tx, w)\n",
    "    Hessian = calculate_hessian(y, tx, w)\n",
    "    return loss, gradient, Hessian\n",
    "    \n",
    "test(logistic_regression)"
   ]
  },
  {
   "cell_type": "markdown",
   "metadata": {},
   "source": [
    "### Using Newton's method\n",
    "Use Newton's method for logistic regression."
   ]
  },
  {
   "cell_type": "code",
   "execution_count": 232,
   "metadata": {},
   "outputs": [
    {
     "name": "stdout",
     "output_type": "stream",
     "text": [
      "✅ Your `learning_by_newton_method` passed 8 tests.\n"
     ]
    }
   ],
   "source": [
    "def learning_by_newton_method(y, tx, w, gamma):\n",
    "    \"\"\"\n",
    "    Do one step of Newton's method.\n",
    "    Return the loss and updated w.\n",
    "\n",
    "    Args:\n",
    "        y:  shape=(N, 1)\n",
    "        tx: shape=(N, D)\n",
    "        w:  shape=(D, 1)\n",
    "        gamma: scalar\n",
    "\n",
    "    Returns:\n",
    "        loss: scalar number\n",
    "        w: shape=(D, 1)\n",
    "        \n",
    "    >>> y = np.c_[[0., 0., 1., 1.]]\n",
    "    >>> np.random.seed(0)\n",
    "    >>> tx = np.random.rand(4, 3)\n",
    "    >>> w = np.array([[0.1], [0.5], [0.5]])\n",
    "    >>> gamma = 0.1\n",
    "    >>> loss, w = learning_by_newton_method(y, tx, w, gamma)\n",
    "    >>> round(loss, 8)\n",
    "    0.71692036\n",
    "    >>> w\n",
    "    array([[-1.31876014],\n",
    "           [ 1.0590277 ],\n",
    "           [ 0.80091466]])\n",
    "    \"\"\"\n",
    "   \n",
    "   \n",
    "    # return loss, gradient and Hessian\n",
    "    loss, gradient, hessian = logistic_regression(y, tx, w)\n",
    "\n",
    "    # update w\n",
    "    w = w - gamma*(np.linalg.inv(hessian).dot(gradient))\n",
    "    # w = w-gamma*()\n",
    "    return loss, w\n",
    "\n",
    "test(learning_by_newton_method)"
   ]
  },
  {
   "cell_type": "markdown",
   "metadata": {},
   "source": [
    "demo"
   ]
  },
  {
   "cell_type": "code",
   "execution_count": 203,
   "metadata": {},
   "outputs": [
    {
     "name": "stdout",
     "output_type": "stream",
     "text": [
      "Current iteration=0, the loss=0.6931471805599456\n",
      "Current iteration=1, the loss=0.317057768695479\n",
      "Current iteration=2, the loss=0.23652293099675287\n",
      "Current iteration=3, the loss=0.20998733711242235\n",
      "Current iteration=4, the loss=0.20478199318618967\n",
      "Current iteration=5, the loss=0.20447559968244788\n",
      "Current iteration=6, the loss=0.2044741280881354\n",
      "Current iteration=7, the loss=0.20447412804945292\n",
      "loss=0.20447412804945292\n"
     ]
    },
    {
     "data": {
      "image/png": "[encoded data removed]",
      "text/plain": [
       "<Figure size 432x288 with 2 Axes>"
      ]
     },
     "metadata": {
      "needs_background": "light"
     },
     "output_type": "display_data"
    }
   ],
   "source": [
    "def logistic_regression_newton_method_demo(y, x):\n",
    "    # init parameters\n",
    "    max_iter = 100\n",
    "    threshold = 1e-8\n",
    "    lambda_ = 0.1\n",
    "    gamma = 1.\n",
    "    losses = []\n",
    "\n",
    "    # build tx\n",
    "    tx = np.c_[np.ones((y.shape[0], 1)), x]\n",
    "    w = np.zeros((tx.shape[1], 1))\n",
    "\n",
    "    # start the logistic regression\n",
    "    for iter in range(max_iter):\n",
    "        # get loss and update w.\n",
    "        loss, w = learning_by_newton_method(y, tx, w, gamma)\n",
    "        # log info\n",
    "        if iter % 1 == 0:\n",
    "            print(\"Current iteration={i}, the loss={l}\".format(i=iter, l=loss))\n",
    "\n",
    "        # converge criterion\n",
    "        losses.append(loss)\n",
    "        if len(losses) > 1 and np.abs(losses[-1] - losses[-2]) < threshold:\n",
    "            break\n",
    "    # visualization\n",
    "    visualization(y, x, mean_x, std_x, w, \"classification_by_logistic_regression_newton_method\", True)\n",
    "    print(\"loss={l}\".format(l=calculate_loss(y, tx, w)))\n",
    "\n",
    "logistic_regression_newton_method_demo(y, x)"
   ]
  },
  {
   "cell_type": "markdown",
   "metadata": {},
   "source": [
    "#### The `logistic_regression_newton_method_demo` is expected to show\n",
    "\n",
    "![1](../template/classification_by_logistic_regression_newton_method.png)"
   ]
  },
  {
   "cell_type": "markdown",
   "metadata": {},
   "source": [
    "### Using penalized logistic regression\n",
    "Fill in the function below."
   ]
  },
  {
   "cell_type": "code",
   "execution_count": 231,
   "metadata": {},
   "outputs": [
    {
     "name": "stdout",
     "output_type": "stream",
     "text": [
      "❌ The are some issues with your implementation of `penalized_logistic_regression`:\n",
      "**********************************************************************\n",
      "File \"__main__\", line 19, in penalized_logistic_regression\n",
      "Failed example:\n",
      "    round(loss, 8)\n",
      "Expected:\n",
      "    0.63537268\n",
      "Got:\n",
      "    0.64008097\n",
      "**********************************************************************\n",
      "File \"__main__\", line 21, in penalized_logistic_regression\n",
      "Failed example:\n",
      "    gradient \n",
      "Expected:\n",
      "    array([[-0.08370763],\n",
      "           [ 0.2467104 ],\n",
      "           [ 0.57712843]])\n",
      "Got:\n",
      "    array([[-0.09370763],\n",
      "           [ 0.2267104 ],\n",
      "           [ 0.54712843]])\n",
      "**********************************************************************\n"
     ]
    }
   ],
   "source": [
    "def penalized_logistic_regression(y, tx, w, lambda_):\n",
    "    \"\"\"return the loss and gradient.\n",
    "\n",
    "    Args:\n",
    "        y:  shape=(N, 1)\n",
    "        tx: shape=(N, D)\n",
    "        w:  shape=(D, 1)\n",
    "        lambda_: scalar\n",
    "\n",
    "    Returns:\n",
    "        loss: scalar number\n",
    "        gradient: shape=(D, 1)\n",
    "\n",
    "    >>> y = np.c_[[0., 1.]]\n",
    "    >>> tx = np.arange(6).reshape(2, 3)\n",
    "    >>> w = np.array([[0.1], [0.2], [0.3]])\n",
    "    >>> lambda_ = 0.1\n",
    "    >>> loss, gradient = penalized_logistic_regression(y, tx, w, lambda_)\n",
    "    >>> round(loss, 8)\n",
    "    0.63537268\n",
    "    >>> gradient \n",
    "    array([[-0.08370763],\n",
    "           [ 0.2467104 ],\n",
    "           [ 0.57712843]])\n",
    "    \"\"\"\n",
    "    N,D = tx.shape\n",
    "    loss = 0.0 \n",
    "    mle = np.sum((1/N)*(np.log(1+np.exp(tx.dot(w.reshape(-1))))-y.reshape(-1)*(tx.dot(w.reshape(-1)))))\n",
    "    regu = (lambda_/2)*np.linalg.norm(w, ord=2)\n",
    "    loss = mle + regu\n",
    "    # loss = calculate_loss(y, tx, w)+(lambda_/2)*np.linalg.norm(w)\n",
    "    # gradient = calculate_gradient(y, tx, w) + lambda_*np.linalg.norm(w)\n",
    "    gradient = calculate_gradient(y, tx, w) + lambda_*w\n",
    "\n",
    "    # N, D = tx.shape \n",
    "    # y = y.reshape(-1); w = w.reshape(-1)\n",
    "    # gradient = (1/N)*tx.T.dot(sigmoid(tx.dot(w))-y).reshape(D,1)\n",
    "\n",
    "    return loss, gradient\n",
    "\n",
    "test(penalized_logistic_regression)"
   ]
  },
  {
   "cell_type": "code",
   "execution_count": 228,
   "metadata": {},
   "outputs": [
    {
     "name": "stdout",
     "output_type": "stream",
     "text": [
      "0.6000000000000001\n",
      "0.3741657386773941\n"
     ]
    }
   ],
   "source": [
    "w = np.array([[0.1], [0.2], [0.3]])\n",
    "lambda_ = 0.1\n",
    "print(np.linalg.norm(w, ord=1))\n",
    "print(np.linalg.norm(w, ord=2))\n"
   ]
  },
  {
   "cell_type": "code",
   "execution_count": 215,
   "metadata": {},
   "outputs": [
    {
     "name": "stdout",
     "output_type": "stream",
     "text": [
      "❌ The are some issues with your implementation of `learning_by_penalized_gradient`:\n",
      "**********************************************************************\n",
      "File \"__main__\", line 24, in learning_by_penalized_gradient\n",
      "Failed example:\n",
      "    round(loss, 8)\n",
      "Expected:\n",
      "    0.63537268\n",
      "Got:\n",
      "    0.64008097\n",
      "**********************************************************************\n",
      "File \"__main__\", line 26, in learning_by_penalized_gradient\n",
      "Failed example:\n",
      "    w\n",
      "Expected:\n",
      "    array([[0.10837076],\n",
      "           [0.17532896],\n",
      "           [0.24228716]])\n",
      "Got:\n",
      "    array([[0.10937076],\n",
      "           [0.17732896],\n",
      "           [0.24528716]])\n",
      "**********************************************************************\n"
     ]
    }
   ],
   "source": [
    "def learning_by_penalized_gradient(y, tx, w, gamma, lambda_):\n",
    "    \"\"\"\n",
    "    Do one step of gradient descent, using the penalized logistic regression.\n",
    "    Return the loss and updated w.\n",
    "\n",
    "    Args:\n",
    "        y:  shape=(N, 1)\n",
    "        tx: shape=(N, D)\n",
    "        w:  shape=(D, 1)\n",
    "        gamma: scalar\n",
    "        lambda_: scalar\n",
    "\n",
    "    Returns:\n",
    "        loss: scalar number\n",
    "        w: shape=(D, 1)\n",
    "\n",
    "    >>> np.set_printoptions(8)\n",
    "    >>> y = np.c_[[0., 1.]]\n",
    "    >>> tx = np.arange(6).reshape(2, 3)\n",
    "    >>> w = np.array([[0.1], [0.2], [0.3]])\n",
    "    >>> lambda_ = 0.1\n",
    "    >>> gamma = 0.1\n",
    "    >>> loss, w = learning_by_penalized_gradient(y, tx, w, gamma, lambda_)\n",
    "    >>> round(loss, 8)\n",
    "    0.63537268\n",
    "    >>> w\n",
    "    array([[0.10837076],\n",
    "           [0.17532896],\n",
    "           [0.24228716]])\n",
    "    \"\"\"\n",
    "\n",
    "    # loss, gradient\n",
    "    loss, gradient = penalized_logistic_regression(y, tx, w, lambda_)\n",
    "   \n",
    "    # update w\n",
    "    w = w - gamma*gradient\n",
    "   \n",
    "    return loss, w\n",
    "    \n",
    "test(learning_by_penalized_gradient)"
   ]
  },
  {
   "cell_type": "code",
   "execution_count": 216,
   "metadata": {},
   "outputs": [
    {
     "name": "stdout",
     "output_type": "stream",
     "text": [
      "Current iteration=0, loss=0.6931471805599456\n",
      "Current iteration=100, loss=0.2584874984463755\n",
      "Current iteration=200, loss=0.23743110750790544\n",
      "Current iteration=300, loss=0.22657963812125168\n",
      "Current iteration=400, loss=0.22038599261294503\n",
      "Current iteration=500, loss=0.21658464186332185\n",
      "Current iteration=600, loss=0.21412170001418543\n",
      "Current iteration=700, loss=0.21245783248562458\n",
      "Current iteration=800, loss=0.21129577738704583\n",
      "Current iteration=900, loss=0.2104618631960926\n",
      "Current iteration=1000, loss=0.20984977031269908\n",
      "Current iteration=1100, loss=0.20939186848958183\n",
      "Current iteration=1200, loss=0.20904373374521215\n",
      "Current iteration=1300, loss=0.20877537281022113\n",
      "Current iteration=1400, loss=0.20856604529203435\n",
      "Current iteration=1500, loss=0.20840110283776825\n",
      "Current iteration=1600, loss=0.20827000243775634\n",
      "Current iteration=1700, loss=0.20816502563403713\n",
      "Current iteration=1800, loss=0.20808043414196098\n",
      "Current iteration=1900, loss=0.2080119019384619\n",
      "Current iteration=2000, loss=0.2079561263036647\n",
      "Current iteration=2100, loss=0.20791055694594876\n",
      "Current iteration=2200, loss=0.207873204412317\n",
      "Current iteration=2300, loss=0.20784250258927167\n",
      "Current iteration=2400, loss=0.20781720865634465\n",
      "Current iteration=2500, loss=0.20779632933601774\n",
      "Current iteration=2600, loss=0.20777906585324624\n",
      "Current iteration=2700, loss=0.207764772376845\n",
      "Current iteration=2800, loss=0.2077529242953368\n",
      "Current iteration=2900, loss=0.20774309375186345\n",
      "Current iteration=3000, loss=0.2077349305985169\n",
      "Current iteration=3100, loss=0.20772814744106846\n",
      "Current iteration=3200, loss=0.20772250780327509\n",
      "Current iteration=3300, loss=0.20771781669384753\n",
      "Current iteration=3400, loss=0.2077139130410153\n",
      "Current iteration=3500, loss=0.20771066359119156\n",
      "Current iteration=3600, loss=0.2077079579644087\n",
      "Current iteration=3700, loss=0.20770570463019855\n",
      "Current iteration=3800, loss=0.2077038276205411\n",
      "Current iteration=3900, loss=0.20770226383638882\n",
      "Current iteration=4000, loss=0.20770096083459832\n",
      "loss=0.20611829710155977\n"
     ]
    },
    {
     "data": {
      "image/png": "[encoded data removed]",
      "text/plain": [
       "<Figure size 432x288 with 2 Axes>"
      ]
     },
     "metadata": {
      "needs_background": "light"
     },
     "output_type": "display_data"
    }
   ],
   "source": [
    "def logistic_regression_penalized_gradient_descent_demo(y, x):\n",
    "    # init parameters\n",
    "    max_iter = 10000\n",
    "    gamma = 0.5\n",
    "    lambda_ = 0.0005\n",
    "    threshold = 1e-8\n",
    "    losses = []\n",
    "\n",
    "    # build tx\n",
    "    tx = np.c_[np.ones((y.shape[0], 1)), x]\n",
    "    w = np.zeros((tx.shape[1], 1))\n",
    "\n",
    "    # start the logistic regression\n",
    "    for iter in range(max_iter):\n",
    "        # get loss and update w.\n",
    "        loss, w = learning_by_penalized_gradient(y, tx, w, gamma, lambda_)\n",
    "        # log info\n",
    "        if iter % 100 == 0:\n",
    "            print(\"Current iteration={i}, loss={l}\".format(i=iter, l=loss))\n",
    "        # converge criterion\n",
    "        losses.append(loss)\n",
    "        if len(losses) > 1 and np.abs(losses[-1] - losses[-2]) < threshold:\n",
    "            break\n",
    "    # visualization\n",
    "    visualization(y, x, mean_x, std_x, w, \"classification_by_logistic_regression_penalized_gradient_descent\", True)\n",
    "    print(\"loss={l}\".format(l=calculate_loss(y, tx, w)))\n",
    "    \n",
    "logistic_regression_penalized_gradient_descent_demo(y, x)"
   ]
  },
  {
   "cell_type": "markdown",
   "metadata": {},
   "source": [
    "#### The `logistic_regression_penalized_gradient_descent_demo` is expected to show\n",
    "\n",
    "![1](../template/classification_by_logistic_regression_penalized_gradient_descent.png)"
   ]
  }
 ],
 "metadata": {
  "anaconda-cloud": {},
  "kernelspec": {
   "display_name": "Python 3.8.3 ('base')",
   "language": "python",
   "name": "python3"
  },
  "language_info": {
   "codemirror_mode": {
    "name": "ipython",
    "version": 3
   },
   "file_extension": ".py",
   "mimetype": "text/x-python",
   "name": "python",
   "nbconvert_exporter": "python",
   "pygments_lexer": "ipython3",
   "version": "3.8.3"
  },
  "vscode": {
   "interpreter": {
    "hash": "cb2cb3b286aaff8923ff99e0ca2f8c0ff23c13ab89686efdb20931072a2394da"
   }
  }
 },
 "nbformat": 4,
 "nbformat_minor": 4
}
